{
 "cells": [
  {
   "cell_type": "code",
   "execution_count": 1,
   "metadata": {},
   "outputs": [],
   "source": [
    "import sqlite3"
   ]
  },
  {
   "cell_type": "code",
   "execution_count": 18,
   "metadata": {},
   "outputs": [],
   "source": [
    "#Define functions for each of the required operations\n",
    "\n",
    "def connect():\n",
    "    conn = sqlite3.connect('books.db')\n",
    "    cur = conn.cursor()\n",
    "    cur.execute('CREATE TABLE IF NOT EXISTS book (id INTEGER PRIMARY KEY, title text, author text, year integer, isbn integer)')\n",
    "    conn.commit()\n",
    "    conn.close()\n",
    "    \n",
    "    \n",
    "def insert(title, author, year, isbn):\n",
    "    conn = sqlite3.connect('books.db')\n",
    "    cur = conn.cursor()\n",
    "    cur.execute(\"INSERT INTO book VALUES (NULL, ?,?,?,?)\", (title, author, year, isbn))\n",
    "    conn.commit()\n",
    "    conn.close()\n",
    "    \n",
    "def view():\n",
    "    conn = sqlite3.connect('books.db')\n",
    "    cur = conn.cursor()\n",
    "    cur.execute(\"SELECT * FROM book\")\n",
    "    rows = cur.fetchall()\n",
    "    conn.close()\n",
    "    return rows\n",
    "\n",
    "#Use empty strings as default parameters to allow for searching only for one category\n",
    "\n",
    "def search(title = \"\", author= \"\", year= \"\", isbn= \"\"):\n",
    "    conn = sqlite3.connect('books.db')\n",
    "    cur = conn.cursor()\n",
    "    cur.execute(\"SELECT * FROM book WHERE title = ? OR author = ? OR year = ? OR isbn = ?\", (title, author, year, isbn))\n",
    "    rows = cur.fetchall()\n",
    "    conn.close()\n",
    "    return rows\n",
    "    \n",
    "\n",
    "def delete(id):\n",
    "    conn = sqlite3.connect('books.db')\n",
    "    cur = conn.cursor()\n",
    "    cur.execute(\"DELETE FROM book WHERE id =?\", (id,))\n",
    "    conn.commit()\n",
    "    conn.close()\n",
    "\n",
    "    \n",
    "def update(id, title, author, year, isbn):\n",
    "    conn = sqlite3.connect('books.db')\n",
    "    cur = conn.cursor()\n",
    "    cur.execute(\"UPDATE book SET title = ?, author = ?, year = ?, isbn = ? WHERE id = ?\", (title, author, year, isbn, id))\n",
    "    conn.commit()\n",
    "    conn.close()\n",
    "    \n",
    "    \n",
    "    \n",
    "    \n",
    "    \n",
    "    \n",
    "    \n",
    "    \n",
    "    \n",
    "    "
   ]
  },
  {
   "cell_type": "code",
   "execution_count": 23,
   "metadata": {},
   "outputs": [
    {
     "data": {
      "text/plain": [
       "[(1, 'Winnettou', 'Karl May', 1970, 123456),\n",
       " (2, 'The Bible', 'God', 1, 777777)]"
      ]
     },
     "execution_count": 23,
     "metadata": {},
     "output_type": "execute_result"
    }
   ],
   "source": [
    "view()"
   ]
  },
  {
   "cell_type": "code",
   "execution_count": null,
   "metadata": {},
   "outputs": [],
   "source": []
  },
  {
   "cell_type": "code",
   "execution_count": null,
   "metadata": {},
   "outputs": [],
   "source": []
  },
  {
   "cell_type": "code",
   "execution_count": null,
   "metadata": {},
   "outputs": [],
   "source": []
  },
  {
   "cell_type": "code",
   "execution_count": 14,
   "metadata": {},
   "outputs": [],
   "source": []
  },
  {
   "cell_type": "code",
   "execution_count": null,
   "metadata": {},
   "outputs": [],
   "source": []
  },
  {
   "cell_type": "code",
   "execution_count": null,
   "metadata": {},
   "outputs": [],
   "source": []
  },
  {
   "cell_type": "code",
   "execution_count": null,
   "metadata": {},
   "outputs": [],
   "source": []
  }
 ],
 "metadata": {
  "kernelspec": {
   "display_name": "Python 3",
   "language": "python",
   "name": "python3"
  },
  "language_info": {
   "codemirror_mode": {
    "name": "ipython",
    "version": 3
   },
   "file_extension": ".py",
   "mimetype": "text/x-python",
   "name": "python",
   "nbconvert_exporter": "python",
   "pygments_lexer": "ipython3",
   "version": "3.6.4"
  }
 },
 "nbformat": 4,
 "nbformat_minor": 2
}
