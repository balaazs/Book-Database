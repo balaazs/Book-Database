{
 "cells": [
  {
   "cell_type": "markdown",
   "metadata": {},
   "source": [
    "A programme that can stores book information such as:\n",
    "Title, Author, Year, ISBN, \n",
    "\n",
    "User can:\n",
    "\n",
    "- View entries,\n",
    "- Add entries,\n",
    "- Edit entries,\n",
    "- Search entries,\n",
    "- Delete entries."
   ]
  },
  {
   "cell_type": "code",
   "execution_count": 26,
   "metadata": {},
   "outputs": [],
   "source": [
    "from tkinter import *"
   ]
  },
  {
   "cell_type": "code",
   "execution_count": 34,
   "metadata": {},
   "outputs": [],
   "source": [
    "import backend"
   ]
  },
  {
   "cell_type": "code",
   "execution_count": 50,
   "metadata": {},
   "outputs": [],
   "source": [
    "#Function for viewing\n",
    "\n",
    "def view_command():\n",
    "    list1.delete(0,END)\n",
    "    for row in backend.view():\n",
    "        list1.insert(END,row)"
   ]
  },
  {
   "cell_type": "code",
   "execution_count": 61,
   "metadata": {},
   "outputs": [],
   "source": [
    "#Function for searching \n",
    "\n",
    "def search_command():\n",
    "    list1.delete(0,END)\n",
    "    for row in backend.search(title_text.get(), author_text.get(), year_text.get(), isbn_text.get()):\n",
    "        list1.insert(END, row)\n",
    "    "
   ]
  },
  {
   "cell_type": "code",
   "execution_count": 76,
   "metadata": {},
   "outputs": [],
   "source": [
    "#Funcion for adding entries\n",
    "def add_command():\n",
    "    backend.insert(title_text.get(), author_text.get(), year_text.get(), isbn_text.get())\n",
    "    list1.delete(0,END)\n",
    "    list1.insert(END, (title_text.get(), author_text.get(), year_text.get(), isbn_text.get()))"
   ]
  },
  {
   "cell_type": "code",
   "execution_count": 115,
   "metadata": {},
   "outputs": [],
   "source": [
    "#Function for getting selected row for updating/deleting\n",
    "\n",
    "def get_selected_row(event):\n",
    "    global selected\n",
    "    index = list1.curselection()[0]\n",
    "    selected = list1.get(index)\n",
    "    e1.delete(0, END)\n",
    "    e1.insert(END,selected[1])\n",
    "    e2.delete(0, END)\n",
    "    e2.insert(END,selected[2])\n",
    "    e3.delete(0, END)\n",
    "    e3.insert(END,selected[3])\n",
    "    e4.delete(0, END)\n",
    "    e4.insert(END,selected[4])"
   ]
  },
  {
   "cell_type": "code",
   "execution_count": 105,
   "metadata": {},
   "outputs": [],
   "source": [
    "#Function for deleting\n",
    "\n",
    "def delete_command():\n",
    "    backend.delete(selected[0])\n"
   ]
  },
  {
   "cell_type": "code",
   "execution_count": 113,
   "metadata": {},
   "outputs": [],
   "source": [
    "#Function for updating\n",
    "\n",
    "def update_command():\n",
    "    backend.update(selected[0],title_text.get(), author_text.get(), year_text.get(), isbn_text.get())\n"
   ]
  },
  {
   "cell_type": "code",
   "execution_count": 118,
   "metadata": {},
   "outputs": [
    {
     "name": "stderr",
     "output_type": "stream",
     "text": [
      "Exception in Tkinter callback\n",
      "Traceback (most recent call last):\n",
      "  File \"C:\\Users\\balaz\\Anaconda3\\lib\\tkinter\\__init__.py\", line 1699, in __call__\n",
      "    return self.func(*args)\n",
      "  File \"<ipython-input-115-5840d45ace7e>\", line 5, in get_selected_row\n",
      "    index = list1.curselection()[0]\n",
      "IndexError: tuple index out of range\n",
      "Exception in Tkinter callback\n",
      "Traceback (most recent call last):\n",
      "  File \"C:\\Users\\balaz\\Anaconda3\\lib\\tkinter\\__init__.py\", line 1699, in __call__\n",
      "    return self.func(*args)\n",
      "  File \"<ipython-input-115-5840d45ace7e>\", line 5, in get_selected_row\n",
      "    index = list1.curselection()[0]\n",
      "IndexError: tuple index out of range\n"
     ]
    }
   ],
   "source": [
    "window = Tk()\n",
    "\n",
    "window.wm_title('Book Database')\n",
    "\n",
    "#Add labels\n",
    "l1 = Label(window, text = 'Title') \n",
    "l1.grid(row = 0, column = 0)\n",
    "\n",
    "l2 = Label(window, text = 'Author')\n",
    "l2.grid(row = 0, column = 2)\n",
    "\n",
    "l3 = Label(window, text = 'Year')\n",
    "l3.grid(row = 1, column = 0)\n",
    "\n",
    "l4 = Label(window, text = 'ISBN')\n",
    "l4.grid(row = 1, column = 2)\n",
    "\n",
    "#Add entry boxes\n",
    "title_text = StringVar()\n",
    "e1 = Entry(window, textvariable = title_text)\n",
    "e1.grid(row = 0, column = 1)\n",
    "\n",
    "author_text = StringVar()\n",
    "e2 = Entry(window, textvariable = author_text)\n",
    "e2.grid(row = 0, column = 3)\n",
    "\n",
    "year_text = StringVar()\n",
    "e3 = Entry(window, textvariable = year_text)\n",
    "e3.grid(row = 1, column = 1)\n",
    "\n",
    "isbn_text = StringVar()\n",
    "e4 = Entry(window, textvariable = isbn_text)\n",
    "e4.grid(row = 1, column = 3)\n",
    "\n",
    "#Add list box\n",
    "list1 = Listbox(window, width = 30, height = 8)\n",
    "list1.grid(row = 2, column =1, rowspan = 6)\n",
    "\n",
    "list1.bind('<<ListboxSelect>>', get_selected_row)\n",
    "\n",
    "\n",
    "#Add scroll bar for viewing entries\n",
    "\n",
    "sb1 = Scrollbar(window)\n",
    "sb1.grid(row = 2, column = 3, rowspan = 6, columnspan = 2)\n",
    "\n",
    "list1.configure(yscrollcommand = sb1.set)\n",
    "sb1.configure(command = list1.yview)\n",
    "\n",
    "#Add buttons\n",
    "\n",
    "b1 = Button(window, text = 'View All', width = 12, command = view_command)\n",
    "b1.grid(row = 2, column = 3)\n",
    "\n",
    "b2 = Button(window, text = 'Add Entry', width = 12, command = add_command)\n",
    "b2.grid(row = 3, column = 3)\n",
    "\n",
    "b3 = Button(window, text = 'Search Entry', width = 12, command = search_command)\n",
    "b3.grid(row = 4, column = 3)\n",
    "\n",
    "b4 = Button(window, text = 'Update selected', width = 12, command = update_command)\n",
    "b4.grid(row = 5, column = 3)\n",
    "\n",
    "b5 = Button(window, text = 'Delete selected', width = 12, command = delete_command)\n",
    "b5.grid(row = 6, column = 3)\n",
    "\n",
    "b6 = Button(window, text = 'Close', width = 12, command = window.destroy)\n",
    "b6.grid(row = 7, column = 3)\n",
    "\n",
    "\n",
    "\n",
    "\n",
    "\n",
    "window.mainloop()"
   ]
  },
  {
   "cell_type": "code",
   "execution_count": null,
   "metadata": {},
   "outputs": [],
   "source": []
  },
  {
   "cell_type": "code",
   "execution_count": null,
   "metadata": {},
   "outputs": [],
   "source": []
  }
 ],
 "metadata": {
  "kernelspec": {
   "display_name": "Python 3",
   "language": "python",
   "name": "python3"
  },
  "language_info": {
   "codemirror_mode": {
    "name": "ipython",
    "version": 3
   },
   "file_extension": ".py",
   "mimetype": "text/x-python",
   "name": "python",
   "nbconvert_exporter": "python",
   "pygments_lexer": "ipython3",
   "version": "3.6.4"
  }
 },
 "nbformat": 4,
 "nbformat_minor": 2
}
